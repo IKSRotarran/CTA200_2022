{
 "cells": [
  {
   "cell_type": "code",
   "execution_count": 1,
   "id": "709f6d39",
   "metadata": {},
   "outputs": [
    {
     "name": "stdout",
     "output_type": "stream",
     "text": [
      "-1\n"
     ]
    }
   ],
   "source": [
    "def f(x):\n",
    "    \"\"\"Plugs an integer or a float into `x` for the function f\n",
    "    \n",
    "    Plugs a number into x^3-x^2-1 and returns the result.\n",
    "    \n",
    "    Parameters\n",
    "    ----------\n",
    "    x : int or float\n",
    "    \n",
    "    Returns\n",
    "    ----------\n",
    "    result : int or float\n",
    "    \n",
    "    Examples\n",
    "    ----------\n",
    "    >>> x = 1\n",
    "    >>> print(f(x))\n",
    "    -1\"\"\"\n",
    "    \n",
    "    result = (x**3) - (x**2) - 1\n",
    "    return result"
   ]
  },
  {
   "cell_type": "code",
   "execution_count": 60,
   "id": "652b64f4",
   "metadata": {},
   "outputs": [
    {
     "name": "stdout",
     "output_type": "stream",
     "text": [
      "Found root in 1 iterations\n"
     ]
    },
    {
     "data": {
      "text/plain": [
       "-8.933333333333344"
      ]
     },
     "execution_count": 60,
     "metadata": {},
     "output_type": "execute_result"
    }
   ],
   "source": [
    "def df(x):\n",
    "    \"\"\"Plugs an integer or a float into `x` for the derivative of the function f\n",
    "    \n",
    "    Plugs a number into 3x^2-2x and returns the result.\n",
    "    \n",
    "    Parameters\n",
    "    ----------\n",
    "    x : int or float\n",
    "    \n",
    "    Returns\n",
    "    ----------\n",
    "    result : int or float\n",
    "    \n",
    "    Examples\n",
    "    ----------\n",
    "    >>> x = 1\n",
    "    >>> print(f(x))\n",
    "    1\"\"\"\n",
    "    \n",
    "    result = (3*(x**2)) - (2*x)\n",
    "    return result"
   ]
  },
  {
   "cell_type": "markdown",
   "id": "b8f28309",
   "metadata": {},
   "source": [
    "#### def newton(f, df, x0, epsilon=1e-6, max_iter=30):\n",
    "    n = 0\n",
    "    while n <= max_iter:\n",
    "        x0 = x0 - (f(x0) / df(x0))\n",
    "        n += 1\n",
    "        if f(x0) < epsilon:\n",
    "            print(\"Found root in %d iterations\" % n)\n",
    "            return x0\n",
    "        else:\n",
    "            print(\"Iteration failed\")\n",
    "            return None\n",
    "        \n",
    "newton(f(x0),df(x0),2,epsilon,max_iter)"
   ]
  },
  {
   "cell_type": "code",
   "execution_count": 1,
   "id": "ebbf4f75",
   "metadata": {},
   "outputs": [
    {
     "ename": "ModuleNotFoundError",
     "evalue": "No module named 'f'",
     "output_type": "error",
     "traceback": [
      "\u001b[0;31m---------------------------------------------------------------------------\u001b[0m",
      "\u001b[0;31mModuleNotFoundError\u001b[0m                       Traceback (most recent call last)",
      "Input \u001b[0;32mIn [1]\u001b[0m, in \u001b[0;36m<module>\u001b[0;34m\u001b[0m\n\u001b[0;32m----> 1\u001b[0m \u001b[38;5;28;01mimport\u001b[39;00m \u001b[38;5;21;01mf\u001b[39;00m\n\u001b[1;32m      2\u001b[0m \u001b[38;5;28;01mimport\u001b[39;00m \u001b[38;5;21;01mdf\u001b[39;00m\n\u001b[1;32m      3\u001b[0m \u001b[38;5;28;01mdef\u001b[39;00m \u001b[38;5;21mnewton\u001b[39m(f, df, x0, epsilon\u001b[38;5;241m=\u001b[39m\u001b[38;5;241m1e-6\u001b[39m, max_iter\u001b[38;5;241m=\u001b[39m\u001b[38;5;241m30\u001b[39m):\n",
      "\u001b[0;31mModuleNotFoundError\u001b[0m: No module named 'f'"
     ]
    }
   ],
   "source": [
    "def newton(f, df, x0, epsilon=1e-6, max_iter=30):\n",
    "    \"\"\"Performs a Newtonian iteration and returns the result.\n",
    "    \n",
    "    Takes the Newtonian iteration for a function `f` and its derivative\n",
    "    `df` for a given initial value `x0`. The function is iterated up to\n",
    "    a maximum number of times denoted by `max_iter`, for each iteration\n",
    "    testing if the new value `x0` is less than or equal to `epsilon`.\n",
    "    If `x0` is less than or equal to `epsilon`, it returns the final\n",
    "    value for `x0`, and if it is greater than `epsilon`, it performs\n",
    "    another iteration. If the maximum number of iterations is reached\n",
    "    and `x0` is still greater than `epsilon`, the function returns\n",
    "    None and prints \"Iteration failed\"\n",
    "    \n",
    "    Parameters\n",
    "    ----------\n",
    "    f : function\n",
    "        A function composed of a single variable x\n",
    "    df: function\n",
    "        The derivative of the function x\n",
    "    x0: int or float\n",
    "        An initial value for x before Newtonian iteration is performed\n",
    "    epsilon: float\n",
    "        A maximum value for f(x0) to be for the Newtonian iteration\n",
    "        to be successful\n",
    "    max_iter:\n",
    "        The maximum number of iterations the function can perform before\n",
    "        iteration is considered to be failed\n",
    "    \n",
    "    Returns\n",
    "    -------\n",
    "    x0:\n",
    "        The final value of x after a successful Newtonian iteration\n",
    "    None:\n",
    "        The return when the Newtonian iteration fails\n",
    "    \n",
    "    Examples\n",
    "    --------\n",
    "    >>> x0 = 1\n",
    "    >>> print(f, df, x0, epsilon = 1e-6, max_iter = 30)\n",
    "    Found root in 4 iterations\n",
    "    1.4655713749070918\n",
    "    \n",
    "    >>> x0 = 10000000\n",
    "    >>> print(f,df, x0, epsilon = 1e-6, max_iter = 30)\n",
    "    Iteration failed\n",
    "    None\n",
    "    \"\"\"\n",
    "    \n",
    "    n = 0\n",
    "    while n <= max_iter:\n",
    "        x0 = x0 - (f(x0) / df(x0))\n",
    "        if f(x0) < epsilon:\n",
    "            print(\"Found root in %d iterations\" % n)\n",
    "            return x0\n",
    "        else:\n",
    "            n += 1\n",
    "    if x0 > epsilon:\n",
    "        print(\"Iteration failed\")\n",
    "        return None"
   ]
  },
  {
   "cell_type": "code",
   "execution_count": null,
   "id": "16056859",
   "metadata": {},
   "outputs": [],
   "source": []
  }
 ],
 "metadata": {
  "kernelspec": {
   "display_name": "Python 3 (ipykernel)",
   "language": "python",
   "name": "python3"
  },
  "language_info": {
   "codemirror_mode": {
    "name": "ipython",
    "version": 3
   },
   "file_extension": ".py",
   "mimetype": "text/x-python",
   "name": "python",
   "nbconvert_exporter": "python",
   "pygments_lexer": "ipython3",
   "version": "3.10.2"
  }
 },
 "nbformat": 4,
 "nbformat_minor": 5
}
